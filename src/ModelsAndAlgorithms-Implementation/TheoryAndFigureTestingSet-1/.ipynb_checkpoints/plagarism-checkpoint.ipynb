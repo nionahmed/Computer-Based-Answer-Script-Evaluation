{
 "cells": [
  {
   "cell_type": "code",
   "execution_count": null,
   "id": "45fb2631",
   "metadata": {},
   "outputs": [],
   "source": [
    "from difflib import SequenceMatcher\n"
   ]
  },
  {
   "cell_type": "code",
   "execution_count": null,
   "id": "eb385ccd",
   "metadata": {},
   "outputs": [],
   "source": [
    "with open (\"fnans.txt\") as file1, open (\"fn001.txt\") as file2:\n",
    "    file1_data=file1.read()\n",
    "    file2_data=file2.read()\n",
    "    similarity= SequenceMatcher(None, file1_data, file2_data).ratio()\n",
    "    print(similarity*100)"
   ]
  },
  {
   "cell_type": "code",
   "execution_count": null,
   "id": "9e011f46",
   "metadata": {},
   "outputs": [],
   "source": []
  }
 ],
 "metadata": {
  "kernelspec": {
   "display_name": "Python 3 (ipykernel)",
   "language": "python",
   "name": "python3"
  },
  "language_info": {
   "codemirror_mode": {
    "name": "ipython",
    "version": 3
   },
   "file_extension": ".py",
   "mimetype": "text/x-python",
   "name": "python",
   "nbconvert_exporter": "python",
   "pygments_lexer": "ipython3",
   "version": "3.10.7"
  }
 },
 "nbformat": 4,
 "nbformat_minor": 5
}
