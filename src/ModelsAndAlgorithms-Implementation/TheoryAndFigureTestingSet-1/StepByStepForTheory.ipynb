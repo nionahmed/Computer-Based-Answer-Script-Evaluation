{
 "cells": [
  {
   "cell_type": "code",
   "execution_count": 10,
   "id": "02bfb68f",
   "metadata": {},
   "outputs": [],
   "source": [
    "import re"
   ]
  },
  {
   "cell_type": "code",
   "execution_count": 11,
   "id": "d162e150",
   "metadata": {},
   "outputs": [],
   "source": [
    "f = 'fn001.txt'\n",
    "f2 = 'fnans.txt'\n",
    "string = open(f).read()\n",
    "string2= open(f2).read()"
   ]
  },
  {
   "cell_type": "code",
   "execution_count": 12,
   "id": "5325a871",
   "metadata": {},
   "outputs": [],
   "source": [
    "compare_list = [string, string2]"
   ]
  },
  {
   "cell_type": "code",
   "execution_count": 13,
   "id": "b9699f49",
   "metadata": {},
   "outputs": [],
   "source": [
    "from sklearn.feature_extraction.text import TfidfVectorizer\n",
    "tfidf_vectorizer = TfidfVectorizer()\n",
    "\n",
    "tf_idf_matrix = tfidf_vectorizer.fit_transform(compare_list)"
   ]
  },
  {
   "cell_type": "code",
   "execution_count": 14,
   "id": "17256f01",
   "metadata": {},
   "outputs": [
    {
     "data": {
      "text/plain": [
       "{'sbfg': 0}"
      ]
     },
     "execution_count": 14,
     "metadata": {},
     "output_type": "execute_result"
    }
   ],
   "source": [
    "tfidf_vectorizer.vocabulary_"
   ]
  },
  {
   "cell_type": "code",
   "execution_count": 15,
   "id": "1f0dfe83",
   "metadata": {},
   "outputs": [
    {
     "name": "stdout",
     "output_type": "stream",
     "text": [
      "  (0, 0)\t1.0\n",
      "  (1, 0)\t1.0\n"
     ]
    }
   ],
   "source": [
    "print(tf_idf_matrix)"
   ]
  },
  {
   "cell_type": "code",
   "execution_count": 16,
   "id": "a74008bf",
   "metadata": {},
   "outputs": [
    {
     "name": "stdout",
     "output_type": "stream",
     "text": [
      "1.0\n"
     ]
    }
   ],
   "source": [
    "from sklearn.metrics.pairwise import cosine_similarity\n",
    "cos_sin = cosine_similarity(tf_idf_matrix)\n",
    "print(cos_sin[0,1])"
   ]
  },
  {
   "cell_type": "code",
   "execution_count": 17,
   "id": "829a515c",
   "metadata": {},
   "outputs": [],
   "source": [
    "import spacy\n",
    "import en_core_web_lg\n",
    "nlp = spacy.load(\"en_core_web_lg\")"
   ]
  },
  {
   "cell_type": "code",
   "execution_count": 18,
   "id": "3d05ba20",
   "metadata": {},
   "outputs": [],
   "source": [
    "vec1=nlp(string)\n",
    "vec2=nlp(string2)"
   ]
  },
  {
   "cell_type": "code",
   "execution_count": 19,
   "id": "f26ff578",
   "metadata": {},
   "outputs": [
    {
     "name": "stdout",
     "output_type": "stream",
     "text": [
      "100.0\n"
     ]
    }
   ],
   "source": [
    "sim=vec1.similarity(vec2)\n",
    "print(sim*100)"
   ]
  },
  {
   "cell_type": "code",
   "execution_count": null,
   "id": "859120bc",
   "metadata": {},
   "outputs": [],
   "source": []
  }
 ],
 "metadata": {
  "kernelspec": {
   "display_name": "Python 3 (ipykernel)",
   "language": "python",
   "name": "python3"
  },
  "language_info": {
   "codemirror_mode": {
    "name": "ipython",
    "version": 3
   },
   "file_extension": ".py",
   "mimetype": "text/x-python",
   "name": "python",
   "nbconvert_exporter": "python",
   "pygments_lexer": "ipython3",
   "version": "3.10.7"
  }
 },
 "nbformat": 4,
 "nbformat_minor": 5
}
