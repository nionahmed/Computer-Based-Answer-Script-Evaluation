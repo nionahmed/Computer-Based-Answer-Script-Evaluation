{
 "cells": [
  {
   "cell_type": "code",
   "execution_count": 4,
   "id": "0b4c3b50",
   "metadata": {},
   "outputs": [],
   "source": [
    "import cv2\n",
    "\n",
    "# read input image\n",
    "img = cv2.imread('expected.jpg')\n",
    "\n",
    "# resize image\n",
    "resized_img = cv2.resize(img, (500, 500))\n",
    "\n",
    "# save output image in place of input image\n",
    "cv2.imwrite('expected.jpg', resized_img)\n"
   ]
  },
  {
   "cell_type": "code",
   "execution_count": null,
   "id": "5f2919d2",
   "metadata": {},
   "outputs": [],
   "source": []
  }
 ],
 "metadata": {
  "kernelspec": {
   "display_name": "Python 3 (ipykernel)",
   "language": "python",
   "name": "python3"
  },
  "language_info": {
   "codemirror_mode": {
    "name": "ipython",
    "version": 3
   },
   "file_extension": ".py",
   "mimetype": "text/x-python",
   "name": "python",
   "nbconvert_exporter": "python",
   "pygments_lexer": "ipython3",
   "version": "3.10.7"
  }
 },
 "nbformat": 4,
 "nbformat_minor": 5
}
