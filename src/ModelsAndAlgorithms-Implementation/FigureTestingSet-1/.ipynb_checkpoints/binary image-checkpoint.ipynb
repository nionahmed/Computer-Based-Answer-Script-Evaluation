{
 "cells": [
  {
   "cell_type": "code",
   "execution_count": 1,
   "id": "401a1fac",
   "metadata": {},
   "outputs": [
    {
     "data": {
      "text/plain": [
       "True"
      ]
     },
     "execution_count": 1,
     "metadata": {},
     "output_type": "execute_result"
    }
   ],
   "source": [
    "import cv2\n",
    "import os\n",
    "\n",
    "# Read input image\n",
    "img = cv2.imread('s1.jpg', 0)\n",
    "\n",
    "# Convert image to binary\n",
    "ret, thresh = cv2.threshold(img, 127, 255, cv2.THRESH_BINARY)\n",
    "\n",
    "# Save output image in place of input image\n",
    "os.remove('s1.jpg')\n",
    "cv2.imwrite('s1.jpg', thresh)\n"
   ]
  },
  {
   "cell_type": "code",
   "execution_count": null,
   "id": "c130d5ac",
   "metadata": {},
   "outputs": [],
   "source": []
  }
 ],
 "metadata": {
  "kernelspec": {
   "display_name": "Python 3 (ipykernel)",
   "language": "python",
   "name": "python3"
  },
  "language_info": {
   "codemirror_mode": {
    "name": "ipython",
    "version": 3
   },
   "file_extension": ".py",
   "mimetype": "text/x-python",
   "name": "python",
   "nbconvert_exporter": "python",
   "pygments_lexer": "ipython3",
   "version": "3.10.7"
  }
 },
 "nbformat": 4,
 "nbformat_minor": 5
}
