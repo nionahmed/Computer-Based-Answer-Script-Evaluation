{
 "cells": [
  {
   "cell_type": "code",
   "execution_count": 30,
   "id": "9fa97030",
   "metadata": {},
   "outputs": [],
   "source": [
    "import cv2\n",
    "import numpy as np"
   ]
  },
  {
   "cell_type": "code",
   "execution_count": 76,
   "id": "d4b7dc30",
   "metadata": {},
   "outputs": [],
   "source": [
    "# Read in the student answer and correct graph images\n",
    "student_img = cv2.imread('010.jpg')\n",
    "correct_img = cv2.imread('ans.jpg')"
   ]
  },
  {
   "cell_type": "code",
   "execution_count": 77,
   "id": "a8e12bcb",
   "metadata": {},
   "outputs": [],
   "source": [
    "# Resize the images to the same dimensions\n",
    "student_img = cv2.resize(student_img, (500, 500))\n",
    "correct_img = cv2.resize(correct_img, (500, 500))\n"
   ]
  },
  {
   "cell_type": "code",
   "execution_count": 78,
   "id": "fe0a314a",
   "metadata": {},
   "outputs": [],
   "source": [
    "# Convert the images to grayscale\n",
    "student_gray = cv2.cvtColor(student_img, cv2.COLOR_BGR2GRAY)\n",
    "correct_gray = cv2.cvtColor(correct_img, cv2.COLOR_BGR2GRAY)"
   ]
  },
  {
   "cell_type": "code",
   "execution_count": 79,
   "id": "083e555f",
   "metadata": {},
   "outputs": [],
   "source": [
    "# Apply Canny edge detection to extract edges\n",
    "student_edges = cv2.Canny(student_gray, 100, 200)\n",
    "correct_edges = cv2.Canny(correct_gray, 100, 200)"
   ]
  },
  {
   "cell_type": "code",
   "execution_count": 80,
   "id": "1513403d",
   "metadata": {},
   "outputs": [],
   "source": [
    "# Find contours in the images\n",
    "student_contours, _ = cv2.findContours(student_edges, cv2.RETR_TREE, cv2.CHAIN_APPROX_SIMPLE)\n",
    "correct_contours, _ = cv2.findContours(correct_edges, cv2.RETR_TREE, cv2.CHAIN_APPROX_SIMPLE)"
   ]
  },
  {
   "cell_type": "code",
   "execution_count": 81,
   "id": "c5aee593",
   "metadata": {},
   "outputs": [],
   "source": [
    "# Calculate the Hu moments for each contour\n",
    "student_hu_moments = cv2.HuMoments(cv2.moments(student_contours[0])).flatten()\n",
    "correct_hu_moments = cv2.HuMoments(cv2.moments(correct_contours[0])).flatten()\n"
   ]
  },
  {
   "cell_type": "code",
   "execution_count": 82,
   "id": "fae0c47e",
   "metadata": {},
   "outputs": [],
   "source": [
    "# Calculate the Euclidean distance between the Hu moments\n",
    "euclidean_dist = np.sqrt(np.sum((student_hu_moments - correct_hu_moments) ** 2))"
   ]
  },
  {
   "cell_type": "code",
   "execution_count": 83,
   "id": "dc7833e7",
   "metadata": {},
   "outputs": [],
   "source": [
    "# Calculate the correlation coefficient between the two images\n",
    "corr_coef = cv2.matchTemplate(student_gray, correct_gray, cv2.TM_CCOEFF_NORMED)[0][0]\n",
    "\n",
    "# Calculate the mean squared error between the two images\n",
    "mse = np.mean((student_gray - correct_gray) ** 2)"
   ]
  },
  {
   "cell_type": "code",
   "execution_count": 84,
   "id": "08fbea26",
   "metadata": {},
   "outputs": [
    {
     "name": "stdout",
     "output_type": "stream",
     "text": [
      "4.502482479774719\n"
     ]
    }
   ],
   "source": [
    "# Calculate a similarity score based on the comparison metrics\n",
    "similarity_score = ((1-euclidean_dist) * corr_coef * (1 / mse))*100\n",
    "\n",
    "print(similarity_score)"
   ]
  },
  {
   "cell_type": "code",
   "execution_count": null,
   "id": "d7afc25a",
   "metadata": {},
   "outputs": [],
   "source": []
  },
  {
   "cell_type": "code",
   "execution_count": null,
   "id": "dd964ee4",
   "metadata": {},
   "outputs": [],
   "source": []
  }
 ],
 "metadata": {
  "kernelspec": {
   "display_name": "Python 3 (ipykernel)",
   "language": "python",
   "name": "python3"
  },
  "language_info": {
   "codemirror_mode": {
    "name": "ipython",
    "version": 3
   },
   "file_extension": ".py",
   "mimetype": "text/x-python",
   "name": "python",
   "nbconvert_exporter": "python",
   "pygments_lexer": "ipython3",
   "version": "3.10.7"
  }
 },
 "nbformat": 4,
 "nbformat_minor": 5
}
