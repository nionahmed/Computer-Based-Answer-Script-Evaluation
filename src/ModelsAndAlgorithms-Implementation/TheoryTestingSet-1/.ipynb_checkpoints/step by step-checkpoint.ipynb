{
 "cells": [
  {
   "cell_type": "code",
   "execution_count": 1,
   "id": "02bfb68f",
   "metadata": {},
   "outputs": [],
   "source": [
    "import re"
   ]
  },
  {
   "cell_type": "code",
   "execution_count": 3,
   "id": "d162e150",
   "metadata": {},
   "outputs": [],
   "source": [
    "f = r'expected keyword.txt'\n",
    "f2 = r'001.txt'\n",
    "string = open(f).read()\n",
    "string2= open(f2).read()"
   ]
  },
  {
   "cell_type": "code",
   "execution_count": 4,
   "id": "5325a871",
   "metadata": {},
   "outputs": [],
   "source": [
    "compare_list = [string, string2]"
   ]
  },
  {
   "cell_type": "code",
   "execution_count": 5,
   "id": "b9699f49",
   "metadata": {},
   "outputs": [],
   "source": [
    "from sklearn.feature_extraction.text import TfidfVectorizer\n",
    "tfidf_vectorizer = TfidfVectorizer()\n",
    "\n",
    "tf_idf_matrix = tfidf_vectorizer.fit_transform(compare_list)"
   ]
  },
  {
   "cell_type": "code",
   "execution_count": 6,
   "id": "17256f01",
   "metadata": {},
   "outputs": [
    {
     "data": {
      "text/plain": [
       "{'procedural': 48,\n",
       " 'programming': 50,\n",
       " 'local': 33,\n",
       " 'variable': 71,\n",
       " 'main': 35,\n",
       " 'function': 13,\n",
       " 'specific': 58,\n",
       " 'inside': 23,\n",
       " 'global': 15,\n",
       " 'outside': 41,\n",
       " 'int': 26,\n",
       " 'modularity': 37,\n",
       " 'combine': 4,\n",
       " 'large': 31,\n",
       " 'task': 61,\n",
       " 'solve': 57,\n",
       " 'parameter': 44,\n",
       " 'passing': 46,\n",
       " 'pass': 45,\n",
       " 'value': 70,\n",
       " 'reference': 51,\n",
       " 'predefined': 47,\n",
       " 'functions': 14,\n",
       " 'set': 55,\n",
       " 'of': 39,\n",
       " 'instruction': 24,\n",
       " 'higher': 19,\n",
       " 'high': 18,\n",
       " 'language': 30,\n",
       " 'level': 32,\n",
       " 'paradigm': 42,\n",
       " 'is': 27,\n",
       " 'was': 72,\n",
       " 'which': 73,\n",
       " 'makes': 36,\n",
       " 'our': 40,\n",
       " 'to': 67,\n",
       " 'more': 38,\n",
       " 'easy': 10,\n",
       " 'there': 63,\n",
       " 'are': 1,\n",
       " 'two': 68,\n",
       " 'kinds': 29,\n",
       " 'paradigms': 43,\n",
       " 'imperative': 20,\n",
       " 'declarative': 8,\n",
       " 'in': 21,\n",
       " 'subset': 59,\n",
       " 'sequence': 54,\n",
       " 'instructions': 25,\n",
       " 'called': 3,\n",
       " 'rule': 53,\n",
       " 'routine': 52,\n",
       " 'it': 28,\n",
       " 'the': 62,\n",
       " 'programme': 49,\n",
       " 'do': 9,\n",
       " 'sum': 60,\n",
       " 'commands': 5,\n",
       " 'this': 64,\n",
       " 'guide': 16,\n",
       " 'though': 65,\n",
       " 'basically': 2,\n",
       " 'hand': 17,\n",
       " 'written': 74,\n",
       " 'consumes': 7,\n",
       " 'lot': 34,\n",
       " 'time': 66,\n",
       " 'and': 0,\n",
       " 'user': 69,\n",
       " 'ft': 12,\n",
       " 'slow': 56,\n",
       " 'increase': 22,\n",
       " 'complexity': 6,\n",
       " 'fortran': 11}"
      ]
     },
     "execution_count": 6,
     "metadata": {},
     "output_type": "execute_result"
    }
   ],
   "source": [
    "tfidf_vectorizer.vocabulary_"
   ]
  },
  {
   "cell_type": "code",
   "execution_count": 7,
   "id": "1f0dfe83",
   "metadata": {},
   "outputs": [
    {
     "name": "stdout",
     "output_type": "stream",
     "text": [
      "  (0, 32)\t0.14722229897874323\n",
      "  (0, 30)\t0.14722229897874323\n",
      "  (0, 18)\t0.14722229897874323\n",
      "  (0, 19)\t0.14722229897874323\n",
      "  (0, 24)\t0.14722229897874323\n",
      "  (0, 39)\t0.10474987826408069\n",
      "  (0, 55)\t0.14722229897874323\n",
      "  (0, 14)\t0.14722229897874323\n",
      "  (0, 47)\t0.14722229897874323\n",
      "  (0, 51)\t0.14722229897874323\n",
      "  (0, 70)\t0.14722229897874323\n",
      "  (0, 45)\t0.14722229897874323\n",
      "  (0, 46)\t0.14722229897874323\n",
      "  (0, 44)\t0.29444459795748645\n",
      "  (0, 57)\t0.14722229897874323\n",
      "  (0, 61)\t0.14722229897874323\n",
      "  (0, 31)\t0.14722229897874323\n",
      "  (0, 4)\t0.14722229897874323\n",
      "  (0, 37)\t0.14722229897874323\n",
      "  (0, 26)\t0.14722229897874323\n",
      "  (0, 41)\t0.14722229897874323\n",
      "  (0, 15)\t0.14722229897874323\n",
      "  (0, 23)\t0.14722229897874323\n",
      "  (0, 58)\t0.14722229897874323\n",
      "  (0, 13)\t0.41899951305632277\n",
      "  :\t:\n",
      "  (1, 3)\t0.06373913149685038\n",
      "  (1, 25)\t0.06373913149685038\n",
      "  (1, 54)\t0.06373913149685038\n",
      "  (1, 59)\t0.06373913149685038\n",
      "  (1, 21)\t0.06373913149685038\n",
      "  (1, 8)\t0.06373913149685038\n",
      "  (1, 20)\t0.12747826299370077\n",
      "  (1, 43)\t0.25495652598740154\n",
      "  (1, 29)\t0.06373913149685038\n",
      "  (1, 68)\t0.06373913149685038\n",
      "  (1, 1)\t0.06373913149685038\n",
      "  (1, 63)\t0.06373913149685038\n",
      "  (1, 10)\t0.19121739449055117\n",
      "  (1, 38)\t0.06373913149685038\n",
      "  (1, 67)\t0.25495652598740154\n",
      "  (1, 40)\t0.06373913149685038\n",
      "  (1, 36)\t0.12747826299370077\n",
      "  (1, 73)\t0.12747826299370077\n",
      "  (1, 72)\t0.12747826299370077\n",
      "  (1, 27)\t0.38243478898110234\n",
      "  (1, 42)\t0.19121739449055117\n",
      "  (1, 39)\t0.3174564191625704\n",
      "  (1, 13)\t0.045350917023224344\n",
      "  (1, 50)\t0.3174564191625704\n",
      "  (1, 48)\t0.09070183404644869\n"
     ]
    }
   ],
   "source": [
    "print(tf_idf_matrix)"
   ]
  },
  {
   "cell_type": "code",
   "execution_count": 8,
   "id": "a74008bf",
   "metadata": {},
   "outputs": [
    {
     "name": "stdout",
     "output_type": "stream",
     "text": [
      "0.12826358200837368\n"
     ]
    }
   ],
   "source": [
    "from sklearn.metrics.pairwise import cosine_similarity\n",
    "cos_sin = cosine_similarity(tf_idf_matrix)\n",
    "print(cos_sin[0,1])"
   ]
  },
  {
   "cell_type": "code",
   "execution_count": 9,
   "id": "829a515c",
   "metadata": {},
   "outputs": [],
   "source": [
    "import spacy\n",
    "import en_core_web_lg\n",
    "nlp = spacy.load(\"en_core_web_lg\")"
   ]
  },
  {
   "cell_type": "code",
   "execution_count": 10,
   "id": "3d05ba20",
   "metadata": {},
   "outputs": [],
   "source": [
    "vec1=nlp(string)\n",
    "vec2=nlp(string2)"
   ]
  },
  {
   "cell_type": "code",
   "execution_count": 11,
   "id": "f26ff578",
   "metadata": {},
   "outputs": [
    {
     "name": "stdout",
     "output_type": "stream",
     "text": [
      "0.8535545719290148\n"
     ]
    }
   ],
   "source": [
    "sim=vec1.similarity(vec2)\n",
    "print(sim)"
   ]
  },
  {
   "cell_type": "code",
   "execution_count": null,
   "id": "859120bc",
   "metadata": {},
   "outputs": [],
   "source": []
  },
  {
   "cell_type": "code",
   "execution_count": null,
   "id": "e142e7ab",
   "metadata": {},
   "outputs": [],
   "source": []
  }
 ],
 "metadata": {
  "kernelspec": {
   "display_name": "Python 3 (ipykernel)",
   "language": "python",
   "name": "python3"
  },
  "language_info": {
   "codemirror_mode": {
    "name": "ipython",
    "version": 3
   },
   "file_extension": ".py",
   "mimetype": "text/x-python",
   "name": "python",
   "nbconvert_exporter": "python",
   "pygments_lexer": "ipython3",
   "version": "3.10.7"
  }
 },
 "nbformat": 4,
 "nbformat_minor": 5
}
