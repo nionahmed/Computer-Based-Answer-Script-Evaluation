{
 "cells": [
  {
   "cell_type": "code",
   "execution_count": 1,
   "id": "465e32bb",
   "metadata": {},
   "outputs": [
    {
     "name": "stdout",
     "output_type": "stream",
     "text": [
      "0.2605556710562624\n"
     ]
    }
   ],
   "source": [
    "import numpy as np\n",
    "from sklearn.metrics.pairwise import cosine_similarity\n",
    "from sklearn.feature_extraction.text import TfidfVectorizer\n",
    "\n",
    "# define the two texts to compare\n",
    "text1 = r\"expected keyword.txt\"\n",
    "text2 = r\"001.txt\"\n",
    "\n",
    "# create the vectorizer\n",
    "vectorizer = TfidfVectorizer()\n",
    "\n",
    "# fit and transform the vectorizer to the texts\n",
    "tfidf = vectorizer.fit_transform([text1, text2])\n",
    "\n",
    "# calculate the cosine similarity between the texts\n",
    "similarity = cosine_similarity(tfidf[0], tfidf[1])\n",
    "\n",
    "# print the similarity score\n",
    "print(similarity[0][0])\n"
   ]
  },
  {
   "cell_type": "code",
   "execution_count": null,
   "id": "28820789",
   "metadata": {},
   "outputs": [],
   "source": []
  },
  {
   "cell_type": "code",
   "execution_count": null,
   "id": "5bb165b7",
   "metadata": {},
   "outputs": [],
   "source": []
  }
 ],
 "metadata": {
  "kernelspec": {
   "display_name": "Python 3 (ipykernel)",
   "language": "python",
   "name": "python3"
  },
  "language_info": {
   "codemirror_mode": {
    "name": "ipython",
    "version": 3
   },
   "file_extension": ".py",
   "mimetype": "text/x-python",
   "name": "python",
   "nbconvert_exporter": "python",
   "pygments_lexer": "ipython3",
   "version": "3.10.7"
  }
 },
 "nbformat": 4,
 "nbformat_minor": 5
}
