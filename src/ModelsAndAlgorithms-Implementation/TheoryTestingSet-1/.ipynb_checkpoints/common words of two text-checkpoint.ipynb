{
 "cells": [
  {
   "cell_type": "code",
   "execution_count": 1,
   "id": "98ff9cbf",
   "metadata": {},
   "outputs": [],
   "source": [
    "import string \n",
    "with open (\"expected keyword.txt\") as file1, open (\"001.txt\") as file2:\n",
    "    s1=file1.read()\n",
    "    s2=file2.read()\n",
    "    "
   ]
  },
  {
   "cell_type": "code",
   "execution_count": 2,
   "id": "2c5b4809",
   "metadata": {},
   "outputs": [
    {
     "name": "stdout",
     "output_type": "stream",
     "text": [
      "['procedural', 'programming', 'local', 'variable', 'main', 'function', 'specific', 'function', 'inside', 'global', 'variable', 'outside', 'int', 'main', 'function', 'modularity', 'combine', 'large', 'task', 'solve', 'parameter', 'passing', 'pass', 'parameter', 'value', 'reference', 'predefined', 'functions', 'function', 'set', 'of', 'instruction', 'higher', 'high', 'programming', 'language', 'level']\n"
     ]
    }
   ],
   "source": [
    "words1=s1.split()\n",
    "table1= str.maketrans(\"\", \"\", string.punctuation)\n",
    "stripped1 = [w.translate(table1)for w in words1]\n",
    "l1=(len(stripped1))\n",
    "print(stripped1)"
   ]
  },
  {
   "cell_type": "code",
   "execution_count": 3,
   "id": "cdf4fb04",
   "metadata": {},
   "outputs": [
    {
     "name": "stdout",
     "output_type": "stream",
     "text": [
      "97\n",
      "['ï»¿A', 'paradigm', 'is', 'a', 'was', 'of', 'programming', 'which', 'makes', 'our', 'programming', 'was', 'to', 'more', 'easy', 'There', 'are', 'two', 'kinds', 'of', 'Paradigms', 'Imperative', 'Programming', 'Paradigm', 'Declarative', 'Programming', 'Paradigms', 'Procedural', 'programming', 'paradigm', 'in', 'subset', 'of', 'Imperative', 'programming', 'paradigms', 'Procedural', 'Programming', 'paradigms', 'is', 'a', 'sequence', 'of', 'instructions', 'which', 'called', 'a', 'rule', 'routine', 'of', 'function', 'It', 'makes', 'the', 'programme', 'easy', 'to', 'do', 'It', 'is', 'the', 'sum', 'of', 'commandsThis', 'programme', 'guide', 'to', 'do', 'a', 'programmeThough', 'it', 'is', 'basically', 'hand', 'written', 'Programme', 'it', 'consumes', 'a', 'lot', 'of', 'time', 'It', 'is', 'easy', 'to', 'and', 'user', 'ft', 'it', 'is', 'Slow', 'Increase', 'complexity', 'C', 'C', 'FORTRAN']\n"
     ]
    }
   ],
   "source": [
    "words2=s2.split()\n",
    "table2= str.maketrans(\"\", \"\", string.punctuation)\n",
    "stripped2 = [w.translate(table1)for w in words2]\n",
    "l2=(len(stripped2))\n",
    "print(l2)\n",
    "print(stripped2)"
   ]
  },
  {
   "cell_type": "code",
   "execution_count": 4,
   "id": "488e3753",
   "metadata": {},
   "outputs": [
    {
     "name": "stdout",
     "output_type": "stream",
     "text": [
      "['programming', 'function', 'function', 'function', 'function', 'of', 'programming']\n",
      "7.216494845360824\n"
     ]
    }
   ],
   "source": [
    "ans=[]\n",
    "for i in stripped1:\n",
    "    if i in stripped2:\n",
    "        ans.append(i)\n",
    "    \n",
    "print(ans)\n",
    "percentage_matched = len(ans)/l2*100\n",
    "print(percentage_matched)"
   ]
  },
  {
   "cell_type": "code",
   "execution_count": null,
   "id": "ad65b54c",
   "metadata": {},
   "outputs": [],
   "source": []
  },
  {
   "cell_type": "code",
   "execution_count": null,
   "id": "be39e5a6",
   "metadata": {},
   "outputs": [],
   "source": []
  }
 ],
 "metadata": {
  "kernelspec": {
   "display_name": "Python 3 (ipykernel)",
   "language": "python",
   "name": "python3"
  },
  "language_info": {
   "codemirror_mode": {
    "name": "ipython",
    "version": 3
   },
   "file_extension": ".py",
   "mimetype": "text/x-python",
   "name": "python",
   "nbconvert_exporter": "python",
   "pygments_lexer": "ipython3",
   "version": "3.10.7"
  }
 },
 "nbformat": 4,
 "nbformat_minor": 5
}
