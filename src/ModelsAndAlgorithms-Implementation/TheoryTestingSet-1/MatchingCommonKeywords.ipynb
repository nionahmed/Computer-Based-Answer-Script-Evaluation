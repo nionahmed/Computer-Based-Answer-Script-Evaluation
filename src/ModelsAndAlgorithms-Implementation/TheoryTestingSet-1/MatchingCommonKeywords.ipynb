{
 "cells": [
  {
   "cell_type": "code",
   "execution_count": null,
   "id": "98ff9cbf",
   "metadata": {},
   "outputs": [],
   "source": [
    "import string \n",
    "with open (\"001.txt\") as file1, open (\"expected keyword.txt\") as file2:\n",
    "    s1=file1.read()\n",
    "    s2=file2.read()\n",
    "    "
   ]
  },
  {
   "cell_type": "code",
   "execution_count": null,
   "id": "2c5b4809",
   "metadata": {},
   "outputs": [],
   "source": [
    "words1=s1.split()\n",
    "table1= str.maketrans(\"\", \"\", string.punctuation)\n",
    "stripped1 = [w.translate(table1)for w in words1]\n",
    "l1=(len(stripped1))\n",
    "print(stripped1)"
   ]
  },
  {
   "cell_type": "code",
   "execution_count": null,
   "id": "cdf4fb04",
   "metadata": {},
   "outputs": [],
   "source": [
    "words2=s2.split()\n",
    "table2= str.maketrans(\"\", \"\", string.punctuation)\n",
    "stripped2 = [w.translate(table1)for w in words2]\n",
    "l2=(len(stripped2))\n",
    "print(l2)\n",
    "print(stripped2)"
   ]
  },
  {
   "cell_type": "code",
   "execution_count": null,
   "id": "488e3753",
   "metadata": {},
   "outputs": [],
   "source": [
    "ans=[]\n",
    "for i in stripped1:\n",
    "    if i in stripped2:\n",
    "        ans.append(i)\n",
    "    \n",
    "print(ans)\n",
    "percentage_matched = len(ans)/l2*100\n",
    "print(percentage_matched)"
   ]
  },
  {
   "cell_type": "code",
   "execution_count": null,
   "id": "ad65b54c",
   "metadata": {},
   "outputs": [],
   "source": []
  },
  {
   "cell_type": "code",
   "execution_count": null,
   "id": "be39e5a6",
   "metadata": {},
   "outputs": [],
   "source": []
  }
 ],
 "metadata": {
  "kernelspec": {
   "display_name": "Python 3 (ipykernel)",
   "language": "python",
   "name": "python3"
  },
  "language_info": {
   "codemirror_mode": {
    "name": "ipython",
    "version": 3
   },
   "file_extension": ".py",
   "mimetype": "text/x-python",
   "name": "python",
   "nbconvert_exporter": "python",
   "pygments_lexer": "ipython3",
   "version": "3.10.7"
  }
 },
 "nbformat": 4,
 "nbformat_minor": 5
}
