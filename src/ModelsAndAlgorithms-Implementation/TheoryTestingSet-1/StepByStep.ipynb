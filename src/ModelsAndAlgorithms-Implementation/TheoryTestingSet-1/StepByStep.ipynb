{
 "cells": [
  {
   "cell_type": "code",
   "execution_count": 1,
   "id": "02bfb68f",
   "metadata": {},
   "outputs": [],
   "source": [
    "import re"
   ]
  },
  {
   "cell_type": "code",
   "execution_count": 38,
   "id": "d162e150",
   "metadata": {},
   "outputs": [],
   "source": [
    "f = '013.txt'\n",
    "f2 = 'expected keyword.txt'\n",
    "string = open(f).read()\n",
    "string2= open(f2).read()"
   ]
  },
  {
   "cell_type": "code",
   "execution_count": 39,
   "id": "5325a871",
   "metadata": {},
   "outputs": [],
   "source": [
    "compare_list = [string, string2]"
   ]
  },
  {
   "cell_type": "code",
   "execution_count": 40,
   "id": "b9699f49",
   "metadata": {},
   "outputs": [],
   "source": [
    "from sklearn.feature_extraction.text import TfidfVectorizer\n",
    "tfidf_vectorizer = TfidfVectorizer()\n",
    "\n",
    "tf_idf_matrix = tfidf_vectorizer.fit_transform(compare_list)"
   ]
  },
  {
   "cell_type": "code",
   "execution_count": 41,
   "id": "17256f01",
   "metadata": {},
   "outputs": [
    {
     "data": {
      "text/plain": [
       "{'featured': 6,\n",
       " 'of': 24,\n",
       " 'procedural': 33,\n",
       " 'programming': 36,\n",
       " 'paradigms': 27,\n",
       " 'are': 1,\n",
       " 'global': 9,\n",
       " 'data': 5,\n",
       " 'which': 46,\n",
       " 'can': 3,\n",
       " 'program': 35,\n",
       " 'be': 2,\n",
       " 'libe': 20,\n",
       " 'in': 12,\n",
       " 'any': 0,\n",
       " 'function': 7,\n",
       " 'the': 42,\n",
       " 'local': 21,\n",
       " 'it': 16,\n",
       " 'use': 43,\n",
       " 'specific': 40,\n",
       " 'functions': 8,\n",
       " 'only': 25,\n",
       " 'modularity': 23,\n",
       " 'passing': 31,\n",
       " 'parameters': 29,\n",
       " 'procedures': 34,\n",
       " 'variable': 45,\n",
       " 'main': 22,\n",
       " 'inside': 13,\n",
       " 'outside': 26,\n",
       " 'int': 15,\n",
       " 'combine': 4,\n",
       " 'large': 18,\n",
       " 'task': 41,\n",
       " 'solve': 39,\n",
       " 'parameter': 28,\n",
       " 'pass': 30,\n",
       " 'value': 44,\n",
       " 'reference': 37,\n",
       " 'predefined': 32,\n",
       " 'set': 38,\n",
       " 'instruction': 14,\n",
       " 'higher': 11,\n",
       " 'high': 10,\n",
       " 'language': 17,\n",
       " 'level': 19}"
      ]
     },
     "execution_count": 41,
     "metadata": {},
     "output_type": "execute_result"
    }
   ],
   "source": [
    "tfidf_vectorizer.vocabulary_"
   ]
  },
  {
   "cell_type": "code",
   "execution_count": 42,
   "id": "1f0dfe83",
   "metadata": {},
   "outputs": [
    {
     "name": "stdout",
     "output_type": "stream",
     "text": [
      "  (0, 34)\t0.17519296037645085\n",
      "  (0, 29)\t0.17519296037645085\n",
      "  (0, 31)\t0.12465123421830834\n",
      "  (0, 23)\t0.12465123421830834\n",
      "  (0, 25)\t0.17519296037645085\n",
      "  (0, 8)\t0.12465123421830834\n",
      "  (0, 40)\t0.12465123421830834\n",
      "  (0, 43)\t0.17519296037645085\n",
      "  (0, 16)\t0.17519296037645085\n",
      "  (0, 21)\t0.12465123421830834\n",
      "  (0, 42)\t0.17519296037645085\n",
      "  (0, 7)\t0.12465123421830834\n",
      "  (0, 0)\t0.17519296037645085\n",
      "  (0, 12)\t0.3503859207529017\n",
      "  (0, 20)\t0.17519296037645085\n",
      "  (0, 2)\t0.17519296037645085\n",
      "  (0, 35)\t0.17519296037645085\n",
      "  (0, 3)\t0.3503859207529017\n",
      "  (0, 46)\t0.17519296037645085\n",
      "  (0, 5)\t0.3503859207529017\n",
      "  (0, 9)\t0.12465123421830834\n",
      "  (0, 1)\t0.17519296037645085\n",
      "  (0, 27)\t0.17519296037645085\n",
      "  (0, 36)\t0.12465123421830834\n",
      "  (0, 33)\t0.12465123421830834\n",
      "  :\t:\n",
      "  (1, 38)\t0.15218949503425272\n",
      "  (1, 32)\t0.15218949503425272\n",
      "  (1, 37)\t0.15218949503425272\n",
      "  (1, 44)\t0.15218949503425272\n",
      "  (1, 30)\t0.15218949503425272\n",
      "  (1, 28)\t0.30437899006850544\n",
      "  (1, 39)\t0.15218949503425272\n",
      "  (1, 41)\t0.15218949503425272\n",
      "  (1, 18)\t0.15218949503425272\n",
      "  (1, 4)\t0.15218949503425272\n",
      "  (1, 15)\t0.15218949503425272\n",
      "  (1, 26)\t0.15218949503425272\n",
      "  (1, 13)\t0.15218949503425272\n",
      "  (1, 22)\t0.30437899006850544\n",
      "  (1, 45)\t0.30437899006850544\n",
      "  (1, 31)\t0.10828407916800467\n",
      "  (1, 23)\t0.10828407916800467\n",
      "  (1, 8)\t0.10828407916800467\n",
      "  (1, 40)\t0.10828407916800467\n",
      "  (1, 21)\t0.10828407916800467\n",
      "  (1, 7)\t0.4331363166720187\n",
      "  (1, 9)\t0.10828407916800467\n",
      "  (1, 36)\t0.21656815833600934\n",
      "  (1, 33)\t0.10828407916800467\n",
      "  (1, 24)\t0.10828407916800467\n"
     ]
    }
   ],
   "source": [
    "print(tf_idf_matrix)"
   ]
  },
  {
   "cell_type": "code",
   "execution_count": 43,
   "id": "a74008bf",
   "metadata": {},
   "outputs": [
    {
     "name": "stdout",
     "output_type": "stream",
     "text": [
      "0.202466161717272\n"
     ]
    }
   ],
   "source": [
    "from sklearn.metrics.pairwise import cosine_similarity\n",
    "cos_sin = cosine_similarity(tf_idf_matrix)\n",
    "print(cos_sin[0,1])"
   ]
  },
  {
   "cell_type": "code",
   "execution_count": 44,
   "id": "829a515c",
   "metadata": {},
   "outputs": [],
   "source": [
    "import spacy\n",
    "import en_core_web_lg\n",
    "nlp = spacy.load(\"en_core_web_lg\")"
   ]
  },
  {
   "cell_type": "code",
   "execution_count": 45,
   "id": "3d05ba20",
   "metadata": {},
   "outputs": [],
   "source": [
    "vec1=nlp(string)\n",
    "vec2=nlp(string2)"
   ]
  },
  {
   "cell_type": "code",
   "execution_count": 46,
   "id": "f26ff578",
   "metadata": {},
   "outputs": [
    {
     "name": "stdout",
     "output_type": "stream",
     "text": [
      "89.3160127966251\n"
     ]
    }
   ],
   "source": [
    "sim=vec1.similarity(vec2)\n",
    "print(sim*100)"
   ]
  },
  {
   "cell_type": "code",
   "execution_count": null,
   "id": "859120bc",
   "metadata": {},
   "outputs": [],
   "source": []
  },
  {
   "cell_type": "code",
   "execution_count": null,
   "id": "e142e7ab",
   "metadata": {},
   "outputs": [],
   "source": []
  }
 ],
 "metadata": {
  "kernelspec": {
   "display_name": "Python 3 (ipykernel)",
   "language": "python",
   "name": "python3"
  },
  "language_info": {
   "codemirror_mode": {
    "name": "ipython",
    "version": 3
   },
   "file_extension": ".py",
   "mimetype": "text/x-python",
   "name": "python",
   "nbconvert_exporter": "python",
   "pygments_lexer": "ipython3",
   "version": "3.10.7"
  }
 },
 "nbformat": 4,
 "nbformat_minor": 5
}
